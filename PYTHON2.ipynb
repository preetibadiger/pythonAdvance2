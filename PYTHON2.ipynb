{
 "cells": [
  {
   "cell_type": "code",
   "execution_count": null,
   "id": "8e94de18",
   "metadata": {},
   "outputs": [],
   "source": [
    "Q1. What is the relationship between classes and modules?\n",
    "\n",
    "ANS:\n",
    "    The difference between a class and a module in python is that a class is used to define a blueprint for a\n",
    "    given object, whereas a module is used to reuse a given piece of code inside another program."
   ]
  },
  {
   "cell_type": "code",
   "execution_count": null,
   "id": "115c1189",
   "metadata": {},
   "outputs": [],
   "source": [
    "Q2. How do you make instances and classes?\n",
    "\n",
    "ANS:\n",
    "    To create instances of a class, you call the class using class name and pass in whatever arguments\n",
    "    its __init__ method accepts."
   ]
  },
  {
   "cell_type": "code",
   "execution_count": null,
   "id": "86905f34",
   "metadata": {},
   "outputs": [],
   "source": [
    "Q3. Where and how should be class attributes created?\n",
    "\n",
    "ANS:\n",
    "    Class attributes belong to the class itself they will be shared by all the instances. Such attributes \n",
    "    are defined in the class body parts usually at the top, for legibility. Unlike class attributes, \n",
    "    instance attributes are not shared by objects"
   ]
  },
  {
   "cell_type": "code",
   "execution_count": null,
   "id": "60bfd03f",
   "metadata": {},
   "outputs": [],
   "source": [
    "Q4. Where and how are instance attributes created?\n",
    "\n",
    "ANS:\n",
    "    We add instance attributes usually by defining the constructor method “__init__”."
   ]
  },
  {
   "cell_type": "code",
   "execution_count": null,
   "id": "3d6b62f5",
   "metadata": {},
   "outputs": [],
   "source": [
    "Q5. What does the term \"self\" in a Python class mean?\n",
    "\n",
    "ANS:\n",
    "    self represents the instance of the class. By using the “self” we can access the attributes and\n",
    "    methods of the class in python."
   ]
  },
  {
   "cell_type": "code",
   "execution_count": null,
   "id": "5002c432",
   "metadata": {},
   "outputs": [],
   "source": [
    "Q6. How does a Python class handle operator overloading?\n",
    "\n",
    "ANS:\n",
    "    Operator Overloading means giving extended meaning beyond their predefined operational meaning.\n",
    "    For example operator + is used to add two integers as well as join two strings and merge two lists. \n",
    "    It is achievable because '+' operator is overloaded by int class and str class."
   ]
  },
  {
   "cell_type": "code",
   "execution_count": null,
   "id": "7731bbaf",
   "metadata": {},
   "outputs": [],
   "source": [
    "Q7. When do you consider allowing operator overloading of your classes?\n",
    "\n",
    "ANS:\n",
    "    For example, the + operator will perform arithmetic addition on two numbers, merge two lists, \n",
    "    or concatenate two strings. This feature in Python that allows the same operator to have different\n",
    "    meaning according to the context is called operator overloading."
   ]
  },
  {
   "cell_type": "code",
   "execution_count": null,
   "id": "4fe853cd",
   "metadata": {},
   "outputs": [],
   "source": [
    "Q8. What is the most popular form of operator overloading?\n",
    "\n",
    "ANS:\n",
    "    \n",
    "A very popular and convenient example is the Addition (+) operator. Just think how the '+' operator operates \n",
    "on two numbers and the same operator operates on two strings. It performs “Addition” on numbers whereas it performs\n",
    "“Concatenation” on strings."
   ]
  },
  {
   "cell_type": "code",
   "execution_count": null,
   "id": "90be99a4",
   "metadata": {},
   "outputs": [],
   "source": [
    "Q9. What are the two most important concepts to grasp in order to comprehend Python OOP code?\n",
    "\n",
    "ANS:\n",
    "     inheritance and polymorphism."
   ]
  },
  {
   "cell_type": "code",
   "execution_count": null,
   "id": "deb36ee1",
   "metadata": {},
   "outputs": [],
   "source": []
  }
 ],
 "metadata": {
  "kernelspec": {
   "display_name": "Python 3 (ipykernel)",
   "language": "python",
   "name": "python3"
  },
  "language_info": {
   "codemirror_mode": {
    "name": "ipython",
    "version": 3
   },
   "file_extension": ".py",
   "mimetype": "text/x-python",
   "name": "python",
   "nbconvert_exporter": "python",
   "pygments_lexer": "ipython3",
   "version": "3.9.7"
  }
 },
 "nbformat": 4,
 "nbformat_minor": 5
}
